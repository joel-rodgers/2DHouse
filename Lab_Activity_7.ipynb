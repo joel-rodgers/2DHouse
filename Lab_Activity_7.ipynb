{
  "nbformat": 4,
  "nbformat_minor": 0,
  "metadata": {
    "colab": {
      "provenance": [],
      "authorship_tag": "ABX9TyOiiyPss6cAKnaQjFgj9Zen",
      "include_colab_link": true
    },
    "kernelspec": {
      "name": "python3",
      "display_name": "Python 3"
    },
    "language_info": {
      "name": "python"
    }
  },
  "cells": [
    {
      "cell_type": "markdown",
      "metadata": {
        "id": "view-in-github",
        "colab_type": "text"
      },
      "source": [
        "<a href=\"https://colab.research.google.com/github/joel-rodgers/2DHouse/blob/master/Lab_Activity_7.ipynb\" target=\"_parent\"><img src=\"https://colab.research.google.com/assets/colab-badge.svg\" alt=\"Open In Colab\"/></a>"
      ]
    },
    {
      "cell_type": "markdown",
      "source": [
        "**GROUP MEMBERS (ICS4C)**\n",
        "1.   122184-Joel Rodgers K'obara\n",
        "2.   120226-Davies Nathan Akidiva\n",
        "3.   115862-Richard Jeremy Githuba\n",
        "4.   121660-Alex Wamai Kariuki\n",
        "5.   120357-Bettyrose Waithera Mburu"
      ],
      "metadata": {
        "id": "bNcV6EatpxeB"
      }
    },
    {
      "cell_type": "markdown",
      "source": [
        "**Write the three address code (TAC) of the following:**\n",
        "   *   Any if-statment of your choice\n",
        "   *   Any for-loop of your choice\n",
        "   *   Any while-loop of your choice\n",
        "\n",
        "\n",
        "\n",
        "\n",
        "\n"
      ],
      "metadata": {
        "id": "N7HLHsUkp1-G"
      }
    },
    {
      "cell_type": "markdown",
      "source": [
        "**IF STATEMENT**\n",
        "\n",
        "\n",
        "\n"
      ],
      "metadata": {
        "id": "dBlARhC5qYZF"
      }
    },
    {
      "cell_type": "code",
      "source": [
        "If A < B \n",
        "then 1 else 0"
      ],
      "metadata": {
        "id": "g1EO_TnMrM70"
      },
      "execution_count": null,
      "outputs": []
    },
    {
      "cell_type": "markdown",
      "source": [
        "Three Address Code for the given expression is-\n",
        "\n",
        "\n",
        "1.  If (A < B) go to (4)\n",
        "2.  T1 = 0\n",
        "3.  go to (5)\n",
        "4.  T1 = 1\n",
        "5.  \n",
        "\n",
        "\n",
        "\n",
        "\n",
        "\n",
        "\n",
        "\n",
        "\n"
      ],
      "metadata": {
        "id": "MYYqTxpzrbiH"
      }
    },
    {
      "cell_type": "markdown",
      "source": [
        "**FOR-LOOP**"
      ],
      "metadata": {
        "id": "Gfe2t_J5r9jk"
      }
    },
    {
      "cell_type": "code",
      "source": [
        "for(j=1;j<=300;j++)\n",
        "{\n",
        "    b[j] = y*7;\n",
        "}"
      ],
      "metadata": {
        "id": "AXlayIQxsE9X"
      },
      "execution_count": null,
      "outputs": []
    },
    {
      "cell_type": "markdown",
      "source": [
        "Three Address Code for the given expression is-\n",
        "\n",
        "\n",
        "* i =1\n",
        "* L:\n",
        "  * t1 = y*7\n",
        "  * t2= &b \n",
        "  * t3 = sizeof(int)\n",
        "  * t4=t3*j \n",
        "  * t5=t2+t4 \n",
        "  * t5=t1\n",
        "* j=j+1\n",
        "* if j<=300 go to L\n",
        "\n",
        "\n",
        "\n",
        "\n",
        "\n",
        "\n",
        "\n",
        "\n",
        "\n"
      ],
      "metadata": {
        "id": "M9mQyarvshuL"
      }
    },
    {
      "cell_type": "markdown",
      "source": [
        "**WHILLE-LOOP**"
      ],
      "metadata": {
        "id": "LJJL3GiHtkUz"
      }
    },
    {
      "cell_type": "code",
      "source": [
        "i=0\n",
        "while(i<10)\n",
        "{\n",
        "    x=4*i;\n",
        "    i++;\n",
        "} "
      ],
      "metadata": {
        "id": "q6ZI7zEytpWH"
      },
      "execution_count": null,
      "outputs": []
    },
    {
      "cell_type": "markdown",
      "source": [
        "Three Address Code for the given expression is-\n",
        "\n",
        "1. i=0\n",
        "2. if i< 10 go to (4)\n",
        "3. go to (9)\n",
        "4. T1=4*1\n",
        "5. x=T1\n",
        "6. T2=i+1\n",
        "7. i=T2\n",
        "8. go to (2)\n",
        "9. \n",
        "\n",
        "\n",
        "\n",
        "\n",
        "\n"
      ],
      "metadata": {
        "id": "tthpmmCAxKdK"
      }
    },
    {
      "cell_type": "markdown",
      "source": [
        "**TRIPLE IMPLEMENTATION: FOR LOOP**"
      ],
      "metadata": {
        "id": "FHMw5oIY04g1"
      }
    },
    {
      "cell_type": "markdown",
      "source": [
        "![image.png](data:image/png;base64,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)"
      ],
      "metadata": {
        "id": "6hHF6enf1GF_"
      }
    }
  ]
}